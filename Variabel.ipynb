{
 "cells": [
  {
   "cell_type": "code",
   "execution_count": 6,
   "id": "d479651d-569d-4c17-b830-4434fb028e7a",
   "metadata": {},
   "outputs": [
    {
     "name": "stdout",
     "output_type": "stream",
     "text": [
      "Nama : Tedi\n",
      "Alamat : Jl. Cisaat\n",
      "Umur : 23\n",
      "Nilai Pemrograman : 85.7\n",
      "Status Menikah : False\n",
      "Propinsi : 7413412\n"
     ]
    }
   ],
   "source": [
    "name = \"Tedi\"\n",
    "address,province = \"Jl. Cisaat\",\"7413412\"\n",
    "age = 23\n",
    "scorePython = 85.7\n",
    "isMarried = False\n",
    "\n",
    "print(\"Nama :\",name)\n",
    "print(\"Alamat :\",address)\n",
    "print(\"Umur :\",age)\n",
    "print(\"Nilai Pemrograman :\",scorePython)\n",
    "print(\"Status Menikah :\", isMarried)\n",
    "print(\"Propinsi :\", province)"
   ]
  },
  {
   "cell_type": "code",
   "execution_count": 4,
   "id": "1900e01b-9f98-4e22-9348-6010887a33b8",
   "metadata": {},
   "outputs": [
    {
     "name": "stdout",
     "output_type": "stream",
     "text": [
      "Tipe data <name> : <class 'str'>\n",
      "Tipe data <address> : <class 'str'>\n",
      "Tipe data <age> : <class 'int'>\n",
      "Tipe data <scorePython> : <class 'float'>\n",
      "Tipe data <isMarried> : <class 'bool'>\n"
     ]
    }
   ],
   "source": [
    "print(\"Tipe data <name> :\",type(name))\n",
    "print(\"Tipe data <address> :\",type(address))\n",
    "print(\"Tipe data <age> :\",type(age))\n",
    "print(\"Tipe data <scorePython> :\",type(scorePython))\n",
    "print(\"Tipe data <isMarried> :\",type(isMarried))"
   ]
  },
  {
   "cell_type": "code",
   "execution_count": 16,
   "id": "c9d188c5-a32d-4866-b1d5-18cf6d5afa7c",
   "metadata": {},
   "outputs": [
    {
     "name": "stdout",
     "output_type": "stream",
     "text": [
      "7413414-7413412.0-True\n",
      "23_23.0_True\n",
      "85.7_85_True\n",
      "False_0_0.0\n"
     ]
    }
   ],
   "source": [
    "#Casting / KOnversi Tipe Data\n",
    "#1. String ke (int,float,boolean)\n",
    "strToInt = int(province)\n",
    "strToFloat = float(province)\n",
    "strToBool = bool(province)\n",
    "print(strToInt + 2,strToFloat,strToBool, sep=\"-\")\n",
    "\n",
    "#2. Int ke (str,float,boolean)\n",
    "intTostr = str(age)\n",
    "intToFloat = float(age)\n",
    "intToBool = bool(age)\n",
    "print(intTostr, intToFloat, intToBool, sep=\"_\")\n",
    "\n",
    "#3. Float ke (int, str, boolean)\n",
    "floatToStr = str(scorePython)\n",
    "floatToInt = int(scorePython)\n",
    "floatToBool = bool(scorePython)\n",
    "print(floatToStr, floatToInt, floatToBool, sep=\"_\")\n",
    "#4. Bool ke (int, str, float)\n",
    "boolToStr = str(isMarried)\n",
    "boolToInt = int(isMarried)\n",
    "boolToFloat =float(isMarried)\n",
    "print(boolToStr, boolToInt, boolToFloat, sep=\"_\")"
   ]
  },
  {
   "cell_type": "code",
   "execution_count": 20,
   "id": "c217f917-1ae4-4d74-9c67-a73e71374e8c",
   "metadata": {},
   "outputs": [
    {
     "name": "stdout",
     "output_type": "stream",
     "text": [
      "Nilai desimal : 500\n",
      "Nilai biner : 10\n",
      "Nilai octal : 255\n",
      "Nilai hexa : 255\n",
      "Nilai biner dari  500 : 0b111110100\n",
      "Nilai Octal dari  500 : 0o764\n",
      "Nilai Hexa dari  500 : 0x1f4\n"
     ]
    }
   ],
   "source": [
    "#Tipe data basis bilangan (desimal,biner,octal, hexa)\n",
    "\n",
    "desimal = 500\n",
    "biner = 0b1010 #10\n",
    "octal = 0o377 #255\n",
    "hexa = 0xff #255\n",
    "\n",
    "print(\"Nilai desimal :\",desimal)\n",
    "print(\"Nilai biner :\",biner)\n",
    "print(\"Nilai octal :\",octal)\n",
    "print (\"Nilai hexa :\",hexa)\n",
    "\n",
    "print(\"Nilai biner dari \",desimal, \":\",bin(desimal))\n",
    "print(\"Nilai Octal dari \",desimal, \":\",oct(desimal))\n",
    "print(\"Nilai Hexa dari \",desimal, \":\",hex(desimal))"
   ]
  },
  {
   "cell_type": "code",
   "execution_count": 32,
   "id": "cddd0f19-0de9-4898-b0b7-0cf33ecbd3db",
   "metadata": {},
   "outputs": [
    {
     "name": "stdout",
     "output_type": "stream",
     "text": [
      "M\n",
      "8\n",
      "R\n"
     ]
    }
   ],
   "source": [
    "city = \"MAKASSAR\"\n",
    "length = len(city)\n",
    "print(city[0])\n",
    "print(length)\n",
    "print(city[length-1])"
   ]
  },
  {
   "cell_type": "code",
   "execution_count": 72,
   "id": "f6d42054-e617-431c-8a05-6e49da307cf7",
   "metadata": {},
   "outputs": [
    {
     "name": "stdout",
     "output_type": "stream",
     "text": [
      "['Bandung', 'Sukabumi', 'Bogor', 'Jakarta', 'Medan']\n",
      "Bandung\n",
      "Medan\n",
      "M\n",
      "n\n",
      "['Bali', 'Sukabumi', 'Bogor', 'Jakarta', 'Medan']\n",
      "('Andi', 'Ferdi', 'Raihan')\n",
      "Ferdi\n",
      "{'name': 'Robi', 'age': 25, 'address': {'street': 'Cisaat', 'number': 21, 'province': 'Jawa Barat'}, 'isMarried': True, 'hobbies': ['Basket Ball', 'Football']}\n",
      "25\n",
      "Jawa Barat\n",
      "Basket Ball\n",
      "Jawa Barat\n"
     ]
    }
   ],
   "source": [
    "#Tipe data Collection\n",
    "cities = [\"Bandung\",\"Sukabumi\",\"Bogor\",\"Jakarta\",\"Medan\"]\n",
    "lengthCities = len(cities)\n",
    "print(cities)\n",
    "print(cities[0])\n",
    "print(cities[lengthCities-1])\n",
    "print(cities[lengthCities-1][0])\n",
    "print(cities[lengthCities-1][len(cities[lengthCities-1])-1])\n",
    "cities[0] = \"Bali\"\n",
    "#cities[5] = \"Malang\" akan menyebabkan error out of range\n",
    "print(cities)\n",
    "\n",
    "names = (\"Andi\",\"Ferdi\",\"Raihan\")\n",
    "print(names)\n",
    "print(names[1])\n",
    "#names[0] = \"Dedi\" error immutable tuple\n",
    "\n",
    "studentData = {\n",
    "    \"name\" : \"Robi\",\n",
    "    \"age\" : 25,\n",
    "    \"address\" : {\n",
    "        \"street\" : \"Cisaat\",\n",
    "        \"number\" : 21,\n",
    "        \"province\" : \"Jawa Barat\"\n",
    "    },\n",
    "    \"isMarried\" : True,\n",
    "    \"hobbies\" : [\"Basket Ball\", \"Football\"]\n",
    "}\n",
    "\n",
    "print(studentData)\n",
    "print(studentData[\"age\"])\n",
    "print(studentData[\"address\"][\"province\"])\n",
    "print(studentData[\"hobbies\"][0])\n",
    "\n",
    "studentList = [\n",
    "    {\n",
    "        \"name\" : \"Robi\",\n",
    "        \"age\" : 25,\n",
    "        \"address\" : {\n",
    "            \"street\" : \"Cisaat\",\n",
    "            \"number\" : 21,\n",
    "            \"province\" : \"Jawa Barat\"\n",
    "        },\n",
    "        \"isMarried\" : True,\n",
    "        \"hobbies\" : [\"Basket Ball\", \"Football\"]\n",
    "    },\n",
    "    {\n",
    "        \"name\" : \"Dedi\",\n",
    "        \"age\" : 15,\n",
    "        \"address\" : {\n",
    "            \"street\" : \"Bogor\",\n",
    "            \"number\" : 29,\n",
    "            \"province\" : \"Jawa Barat\"\n",
    "        },\n",
    "        \"isMarried\" : False,\n",
    "        \"hobbies\" : [\"Chess\", \"Singing\"]\n",
    "    }\n",
    "]\n",
    "print(studentList[0])\n",
    "print(studentList[1])b\n",
    "print(studentList[1][\"address\"][\"province\"])"
   ]
  },
  {
   "cell_type": "code",
   "execution_count": 82,
   "id": "0e0dade4-3d6a-4626-b1a8-5af3af0b253f",
   "metadata": {},
   "outputs": [
    {
     "name": "stdout",
     "output_type": "stream",
     "text": [
      "{'Name': 'Andi', 'Age': 30, 'Status': True}\n",
      "{'Name': 'Rudi', 'Address': 'Bogor'}\n",
      "{'Name': 'Tiger', 'Type': 'Mamalia'}\n",
      "{'Name': 'Crocodile', 'Type': 'Reptile'}\n",
      "{'Vehicle': 'Car', 'Brand': 'BMW', 'cc': 2500}\n"
     ]
    }
   ],
   "source": [
    "#Konversi dictionary\n",
    "\n",
    "list_list = [[\"Name\",\"Andi\"],[\"Age\",30],[\"Status\",True]]\n",
    "dictListStudent = dict(list_list)\n",
    "print(dictListStudent)\n",
    "\n",
    "list_tuple = [(\"Name\",\"Rudi\"),(\"Address\",\"Bogor\")]\n",
    "dictTupleStudent = dict(list_tuple)\n",
    "print(dictTupleStudent)\n",
    "\n",
    "tuple_list = ([\"Name\",\"Tiger\"],[\"Type\",\"Mamalia\"])\n",
    "dictListAnimal = dict(tuple_list)\n",
    "print(dictListAnimal)\n",
    "\n",
    "tuple_tuple = ((\"Name\",\"Crocodile\"),(\"Type\",\"Reptile\"))\n",
    "dictTupleAnimal = dict(tuple_tuple)\n",
    "print(dictTupleAnimal)\n",
    "\n",
    "keys = [\"Vehicle\",\"Brand\",\"cc\"]\n",
    "values = [\"Car\",\"BMW\",2500]\n",
    "car = dict(zip(keys,values))\n",
    "print(car)\n"
   ]
  }
 ],
 "metadata": {
  "kernelspec": {
   "display_name": "Python [conda env:base] *",
   "language": "python",
   "name": "conda-base-py"
  },
  "language_info": {
   "codemirror_mode": {
    "name": "ipython",
    "version": 3
   },
   "file_extension": ".py",
   "mimetype": "text/x-python",
   "name": "python",
   "nbconvert_exporter": "python",
   "pygments_lexer": "ipython3",
   "version": "3.12.7"
  }
 },
 "nbformat": 4,
 "nbformat_minor": 5
}

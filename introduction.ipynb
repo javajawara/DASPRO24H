{
 "cells": [
  {
   "cell_type": "markdown",
   "id": "b694e4b0-7314-47cf-b711-c900dbede6aa",
   "metadata": {},
   "source": [
    "<center><img src=\"https://logos-world.net/wp-content/uploads/2021/10/Python-Logo.png\" width=\"200\"></center><br>\n",
    "Pada jupyter notebooks jenis <b>cell</b> terbagi menjadi \n",
    "<ol>\n",
    "    <li>M (Mark Down) -> M</li>\n",
    "    <li>Y (Code) -> Y</li>\n",
    "</ol>\n",
    "<hr>"
   ]
  },
  {
   "cell_type": "markdown",
   "id": "193d28af-31a1-4b4c-9f43-71cfbd605957",
   "metadata": {},
   "source": [
    "Cara menambahkan <b>cell</b> terbagi menjadi 2:\n",
    "<ul>\n",
    "    <li>A -(Above) Menambah diatas cell aktif</li>\n",
    "    <li>B -(Below) Menambah dibawah cell aktif</li>\n",
    "</ul>\n",
    "\n",
    "<table>\n",
    "    <tr>\n",
    "        <td>Perintah</td>\n",
    "        <td>Keterangan</td>\n",
    "    </tr>\n",
    "    <tr>\n",
    "        <td>ctrl + enter</td>\n",
    "        <td>Running program dengan fokus di cell aktif</td>\n",
    "    </tr>\n",
    "    <tr>\n",
    "        <td>shift + enter</td>\n",
    "        <td>Running program dengan fokus di cell berikutnya</td>\n",
    "    </tr>\n",
    "    \n",
    "</table>"
   ]
  },
  {
   "cell_type": "code",
   "execution_count": 25,
   "id": "42437172-5ec4-4060-980f-232ddcc0f43b",
   "metadata": {},
   "outputs": [
    {
     "name": "stdout",
     "output_type": "stream",
     "text": [
      "python is very easy\n",
      "9\n"
     ]
    },
    {
     "data": {
      "text/plain": [
       "6"
      ]
     },
     "execution_count": 25,
     "metadata": {},
     "output_type": "execute_result"
    }
   ],
   "source": [
    "# this is comment\n",
    "print(\"python is very easy\")\n",
    "data = \"4\"\n",
    "print(int(data) + 5)\n",
    "data\n",
    "3+3"
   ]
  },
  {
   "cell_type": "markdown",
   "id": "f8960c86-0787-475b-a1d7-12deafb3773d",
   "metadata": {},
   "source": [
    "BASIC GIT COMMAND\n",
    "<ol>\n",
    "    <li>git init (tracking folder with git)</li>\n",
    "    <li>git status (to see status of file)</li>\n",
    "    <li>git add . (add all file to stagging)</li>\n",
    "    <li>git commit -m \"message\" (to commit from stagging)</li>\n",
    "    <li>git remote add origin repository_url (to remote github repo)</li>\n",
    "    <li>git push -u origin master</li>\n",
    "</ol>"
   ]
  }
 ],
 "metadata": {
  "kernelspec": {
   "display_name": "Python [conda env:base] *",
   "language": "python",
   "name": "conda-base-py"
  },
  "language_info": {
   "codemirror_mode": {
    "name": "ipython",
    "version": 3
   },
   "file_extension": ".py",
   "mimetype": "text/x-python",
   "name": "python",
   "nbconvert_exporter": "python",
   "pygments_lexer": "ipython3",
   "version": "3.12.7"
  }
 },
 "nbformat": 4,
 "nbformat_minor": 5
}
